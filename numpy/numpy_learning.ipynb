{
 "cells": [
  {
   "cell_type": "code",
   "execution_count": 1,
   "id": "ff54a423-2a29-48a3-b3ac-81bb0c341e58",
   "metadata": {},
   "outputs": [],
   "source": [
    "import numpy as np"
   ]
  },
  {
   "cell_type": "markdown",
   "id": "a29378fa-bb16-43a5-910f-e2eb4e94a34f",
   "metadata": {},
   "source": [
    "Creating diffrerent types of arrays"
   ]
  },
  {
   "cell_type": "code",
   "execution_count": 3,
   "id": "b7abf087-af59-4ad0-a2a8-e75004027f4a",
   "metadata": {},
   "outputs": [
    {
     "name": "stdout",
     "output_type": "stream",
     "text": [
      "[1 2 3 4]\n"
     ]
    }
   ],
   "source": [
    "#1D array\n",
    "array_1 = np.array([1, 2, 3, 4])\n",
    "print(array_1)"
   ]
  },
  {
   "cell_type": "code",
   "execution_count": 4,
   "id": "7e560f5b-fb3d-4c25-908c-293985153b6f",
   "metadata": {},
   "outputs": [
    {
     "data": {
      "text/plain": [
       "numpy.ndarray"
      ]
     },
     "execution_count": 4,
     "metadata": {},
     "output_type": "execute_result"
    }
   ],
   "source": [
    "type(array_1)"
   ]
  },
  {
   "cell_type": "code",
   "execution_count": 5,
   "id": "990b787a-7975-433d-a198-77c840f1cd14",
   "metadata": {},
   "outputs": [
    {
     "name": "stdout",
     "output_type": "stream",
     "text": [
      "[[1 2 3]\n",
      " [4 5 6]]\n"
     ]
    }
   ],
   "source": [
    "#2D array\n",
    "array_2 = np.array([[1, 2, 3], [4, 5, 6]])\n",
    "print(array_2)"
   ]
  },
  {
   "cell_type": "code",
   "execution_count": 6,
   "id": "25cec3d8-c6ed-4f8e-b276-0d8271e37202",
   "metadata": {},
   "outputs": [
    {
     "name": "stdout",
     "output_type": "stream",
     "text": [
      "[[[ 1  2  3]\n",
      "  [ 4  5  6]]\n",
      "\n",
      " [[11 12 13]\n",
      "  [14 15 16]]]\n"
     ]
    }
   ],
   "source": [
    "#3D array\n",
    "array_3 = np.array([[[1, 2, 3], [4, 5, 6]], [[11, 12, 13], [14, 15, 16]]])\n",
    "print(array_3)"
   ]
  },
  {
   "cell_type": "markdown",
   "id": "1b4bc71b-01c0-4713-832c-1331caa0017b",
   "metadata": {},
   "source": [
    "**Printing the data about the arrays**"
   ]
  },
  {
   "cell_type": "code",
   "execution_count": 11,
   "id": "c807faa1-d27d-4672-84be-4579b858ba46",
   "metadata": {},
   "outputs": [
    {
     "name": "stdout",
     "output_type": "stream",
     "text": [
      "<memory at 0x000001F726172680>\n"
     ]
    }
   ],
   "source": [
    "#printing the array memory address\n",
    "print(array_1.data)"
   ]
  },
  {
   "cell_type": "code",
   "execution_count": 14,
   "id": "d9310bac-5a2e-4d57-81d6-a839134ec4ff",
   "metadata": {},
   "outputs": [
    {
     "name": "stdout",
     "output_type": "stream",
     "text": [
      "int32\n"
     ]
    }
   ],
   "source": [
    "#printing the array's datatype\n",
    "print(array_2.dtype)"
   ]
  },
  {
   "cell_type": "code",
   "execution_count": 15,
   "id": "f8c047cb-b127-441c-9999-f8d82a0a33aa",
   "metadata": {},
   "outputs": [
    {
     "name": "stdout",
     "output_type": "stream",
     "text": [
      "(24, 12, 4)\n"
     ]
    }
   ],
   "source": [
    "#printing array's strides\n",
    "print(array_3.strides)"
   ]
  },
  {
   "cell_type": "code",
   "execution_count": 16,
   "id": "6c1c5202-4bbd-4535-ab0b-87f4238b8c07",
   "metadata": {},
   "outputs": [
    {
     "name": "stdout",
     "output_type": "stream",
     "text": [
      "(2, 2, 3)\n"
     ]
    }
   ],
   "source": [
    "#printing array's shape\n",
    "print(array_3.shape)"
   ]
  },
  {
   "cell_type": "markdown",
   "id": "63e9f28f-c377-418d-b501-56656ac7c8a9",
   "metadata": {},
   "source": [
    "Filling arrays"
   ]
  },
  {
   "cell_type": "code",
   "execution_count": 18,
   "id": "79f3e24c-7116-4278-b2e1-b5ce7c58911c",
   "metadata": {},
   "outputs": [
    {
     "name": "stdout",
     "output_type": "stream",
     "text": [
      "[[1. 1. 1.]\n",
      " [1. 1. 1.]\n",
      " [1. 1. 1.]\n",
      " [1. 1. 1.]\n",
      " [1. 1. 1.]]\n"
     ]
    }
   ],
   "source": [
    "#filling with ones \n",
    "print(np.ones((5,3)))"
   ]
  },
  {
   "cell_type": "code",
   "execution_count": 21,
   "id": "2c1af4f6-6144-438e-9f41-0d616fa020c2",
   "metadata": {},
   "outputs": [
    {
     "name": "stdout",
     "output_type": "stream",
     "text": [
      "[[[0. 0. 0.]\n",
      "  [0. 0. 0.]\n",
      "  [0. 0. 0.]]\n",
      "\n",
      " [[0. 0. 0.]\n",
      "  [0. 0. 0.]\n",
      "  [0. 0. 0.]]]\n"
     ]
    }
   ],
   "source": [
    "#filling with zeros\n",
    "print(np.zeros((2, 3, 3)))"
   ]
  },
  {
   "cell_type": "code",
   "execution_count": 23,
   "id": "215a97bd-9376-4e01-8c7c-9bf700e4cc2e",
   "metadata": {},
   "outputs": [
    {
     "name": "stdout",
     "output_type": "stream",
     "text": [
      "[[45 45 45 45 45 45]\n",
      " [45 45 45 45 45 45]\n",
      " [45 45 45 45 45 45]\n",
      " [45 45 45 45 45 45]\n",
      " [45 45 45 45 45 45]]\n"
     ]
    }
   ],
   "source": [
    "#Filling with some values -> ex : Filling with value 45\n",
    "print(np.full((5, 6), 45))"
   ]
  },
  {
   "cell_type": "code",
   "execution_count": 38,
   "id": "2ed000b0-79e2-46fe-b4ed-07da62cab43c",
   "metadata": {},
   "outputs": [
    {
     "name": "stdout",
     "output_type": "stream",
     "text": [
      "[10 15]\n"
     ]
    }
   ],
   "source": [
    "#arranging values for a array form 10 to 20 with incremental value 5\n",
    "print(np.arange(10, 20, 5))"
   ]
  },
  {
   "cell_type": "code",
   "execution_count": 39,
   "id": "918cbac5-ee31-4480-ad25-dbdaa3129716",
   "metadata": {},
   "outputs": [
    {
     "name": "stdout",
     "output_type": "stream",
     "text": [
      "[50 40 30 20 10]\n"
     ]
    }
   ],
   "source": [
    "#printing the values for a array from  50 to 5 with decremental value -10\n",
    "print(np.arange(50, 5, -10))"
   ]
  },
  {
   "cell_type": "code",
   "execution_count": 40,
   "id": "530238a7-7653-4397-8272-1c3aa9a027f2",
   "metadata": {},
   "outputs": [
    {
     "name": "stdout",
     "output_type": "stream",
     "text": [
      "[2.         2.33333333 2.66666667 3.         3.33333333 3.66666667\n",
      " 4.         4.33333333 4.66666667 5.        ]\n"
     ]
    }
   ],
   "source": [
    "#Array from 2 and 5 with 10 numbers equally between the interval (2, 5)\n",
    "print(np.linspace(2, 5, 10))"
   ]
  },
  {
   "cell_type": "code",
   "execution_count": null,
   "id": "a7de6a89-2fde-44cc-a9ae-d86542b04151",
   "metadata": {},
   "outputs": [],
   "source": []
  },
  {
   "cell_type": "code",
   "execution_count": null,
   "id": "9cc2808c-4405-40d2-9b00-5ce99e6c1c95",
   "metadata": {},
   "outputs": [],
   "source": []
  },
  {
   "cell_type": "code",
   "execution_count": 2,
   "id": "d7c734ed-0836-40df-8018-bc5c94dfcea1",
   "metadata": {},
   "outputs": [],
   "source": [
    "#numpy and file operations"
   ]
  },
  {
   "cell_type": "code",
   "execution_count": 8,
   "id": "e19ef84b-a923-448e-bd6c-a8e1cd1b89dc",
   "metadata": {},
   "outputs": [],
   "source": [
    "n = np.array([[1, 2, 3, 4, 5], [5, 4, 3, 2, 1]], dtype='int16')\n",
    "np.savetxt('data.out', n)"
   ]
  },
  {
   "cell_type": "code",
   "execution_count": 11,
   "id": "f19ae507-8739-45cf-af07-3f43a8210249",
   "metadata": {},
   "outputs": [
    {
     "name": "stdout",
     "output_type": "stream",
     "text": [
      "[[1. 5.]\n",
      " [2. 4.]\n",
      " [3. 3.]\n",
      " [4. 2.]\n",
      " [5. 1.]]\n"
     ]
    }
   ],
   "source": [
    "z = np.loadtxt('data.out', unpack=True)\n",
    "print(z)"
   ]
  },
  {
   "cell_type": "markdown",
   "id": "5484a9a5-ff8e-482f-beec-0b2d529bb4fb",
   "metadata": {},
   "source": [
    "When unpack=False, it gives each row of the file as a 1D array.\n",
    "When unpack=True, it returns each column of the file as a separate 1D array.\n",
    "\n",
    "Unpack acts as transpose."
   ]
  },
  {
   "cell_type": "code",
   "execution_count": 20,
   "id": "7fee44f5-ef08-4051-b755-97753be61e66",
   "metadata": {},
   "outputs": [
    {
     "name": "stdout",
     "output_type": "stream",
     "text": [
      "[5. 4. 3. 2. 1.]\n"
     ]
    }
   ],
   "source": [
    "#genfromtxt also loads from txt but with handling missing values.\n",
    "my_array2 = np.genfromtxt('data.out',\n",
    "skip_header=1,\n",
    "filling_values=-999)\n",
    "print(my_array2)"
   ]
  },
  {
   "cell_type": "code",
   "execution_count": null,
   "id": "c643c29e-e45d-4fec-a527-2ed854ffb3b9",
   "metadata": {},
   "outputs": [],
   "source": []
  },
  {
   "cell_type": "code",
   "execution_count": 34,
   "id": "9d759cfb-ecb1-4fba-9f8c-34db2c85609d",
   "metadata": {},
   "outputs": [],
   "source": [
    "m = np.ones((2,3,4), dtype='int16')"
   ]
  },
  {
   "cell_type": "code",
   "execution_count": 35,
   "id": "13a36276-1a98-4b12-b10b-b9be5625b5db",
   "metadata": {},
   "outputs": [
    {
     "data": {
      "text/plain": [
       "3"
      ]
     },
     "execution_count": 35,
     "metadata": {},
     "output_type": "execute_result"
    }
   ],
   "source": [
    "#arrays dimension\n",
    "m.ndim"
   ]
  },
  {
   "cell_type": "code",
   "execution_count": 36,
   "id": "d765df29-6bb7-4367-9de9-2dbffb4d1ff5",
   "metadata": {},
   "outputs": [
    {
     "data": {
      "text/plain": [
       "24"
      ]
     },
     "execution_count": 36,
     "metadata": {},
     "output_type": "execute_result"
    }
   ],
   "source": [
    "#array size\n",
    "m.size #total elements"
   ]
  },
  {
   "cell_type": "code",
   "execution_count": 37,
   "id": "be9202d6-dc93-4eb9-91ac-2bb169b1f828",
   "metadata": {},
   "outputs": [
    {
     "data": {
      "text/plain": [
       "2"
      ]
     },
     "execution_count": 37,
     "metadata": {},
     "output_type": "execute_result"
    }
   ],
   "source": [
    "#array item size\n",
    "m.itemsize #in bytes"
   ]
  },
  {
   "cell_type": "code",
   "execution_count": 39,
   "id": "7776b485-06b3-43b3-b579-549cdc1e08ff",
   "metadata": {},
   "outputs": [
    {
     "data": {
      "text/plain": [
       "48"
      ]
     },
     "execution_count": 39,
     "metadata": {},
     "output_type": "execute_result"
    }
   ],
   "source": [
    "#array total size\n",
    "m.nbytes"
   ]
  },
  {
   "cell_type": "code",
   "execution_count": 42,
   "id": "9348c4ef-8e54-477b-b322-8cb07aae4e7d",
   "metadata": {},
   "outputs": [
    {
     "data": {
      "text/plain": [
       "  C_CONTIGUOUS : True\n",
       "  F_CONTIGUOUS : False\n",
       "  OWNDATA : True\n",
       "  WRITEABLE : True\n",
       "  ALIGNED : True\n",
       "  WRITEBACKIFCOPY : False"
      ]
     },
     "execution_count": 42,
     "metadata": {},
     "output_type": "execute_result"
    }
   ],
   "source": [
    "#array memory layout\n",
    "m.flags"
   ]
  },
  {
   "cell_type": "code",
   "execution_count": 48,
   "id": "244ea375-ca1a-4acd-89fb-44efbc72e811",
   "metadata": {},
   "outputs": [
    {
     "name": "stdout",
     "output_type": "stream",
     "text": [
      "(6, 8)\n",
      "(6, 8)\n",
      "[[1.45790645 1.93823138 1.02321939 1.75540595 1.55217136 1.05647693\n",
      "  1.32896605 1.0311127 ]\n",
      " [1.31706313 1.54732688 1.44279336 1.33930016 1.27714936 1.01031872\n",
      "  1.60544394 1.68846963]\n",
      " [1.0117539  1.14933134 1.5046727  1.41443409 1.22357586 1.26710809\n",
      "  1.26112839 1.69861981]\n",
      " [1.51041018 1.11516819 1.01035365 1.72111777 1.85152727 1.47702547\n",
      "  1.20034544 1.45871491]\n",
      " [1.20977193 1.62092821 1.32209199 1.2299535  1.98914319 1.30280293\n",
      "  1.26829994 1.30347696]\n",
      " [1.88244165 1.60667663 1.7503719  1.07354732 1.05280253 1.8496406\n",
      "  1.5243406  1.32608614]]\n"
     ]
    }
   ],
   "source": [
    "# Rule 1: Two dimensions are operatable if they are equal\n",
    "# Create an array of two dimension\n",
    "A =np.ones((6, 8))\n",
    "# Shape of A\n",
    "print(A.shape)\n",
    "# Create another array\n",
    "B = np.random.random((6,8))\n",
    "# Shape of B\n",
    "print(B.shape)\n",
    "# Sum of A and B, here the shape of both the matrix is same.\n",
    "print(A + B)"
   ]
  },
  {
   "cell_type": "code",
   "execution_count": 52,
   "id": "e4cd780a-9768-4b43-a597-f1db7c859a85",
   "metadata": {},
   "outputs": [
    {
     "name": "stdout",
     "output_type": "stream",
     "text": [
      "[[2. 2.]\n",
      " [2. 2.]]\n"
     ]
    }
   ],
   "source": [
    "A = np.ones((2, 1))\n",
    "B = np.ones((2, 2))\n",
    "\n",
    "print(A+B)"
   ]
  },
  {
   "cell_type": "code",
   "execution_count": 50,
   "id": "b2eacf6c-517f-4a2a-b6fb-8cb6ad746ab9",
   "metadata": {},
   "outputs": [
    {
     "name": "stdout",
     "output_type": "stream",
     "text": [
      "[[0.20183917 0.35455836 0.15530267 0.01498662]\n",
      " [0.89542267 0.15523737 0.23053973 0.94956308]\n",
      " [0.92007738 0.01213537 0.00578309 0.89285141]]\n",
      "(3, 4)\n",
      "[0 1 2 3]\n",
      "(4,)\n",
      "[[ 0.20183917 -0.64544164 -1.84469733 -2.98501338]\n",
      " [ 0.89542267 -0.84476263 -1.76946027 -2.05043692]\n",
      " [ 0.92007738 -0.98786463 -1.99421691 -2.10714859]]\n"
     ]
    }
   ],
   "source": [
    "x = np.random.random((3,4))\n",
    "print(x)\n",
    "# Check shape of `x`\n",
    "print(x.shape)\n",
    "# Initialize `y`\n",
    "y = np.arange(4)\n",
    "print(y)\n",
    "# Check shape of `y`\n",
    "print(y.shape)\n",
    "# Subtract `x` and `y`\n",
    "print(x - y)"
   ]
  },
  {
   "cell_type": "code",
   "execution_count": 51,
   "id": "4f9c8318-c93a-43e2-b57b-0676b6d575e5",
   "metadata": {},
   "outputs": [
    {
     "name": "stdout",
     "output_type": "stream",
     "text": [
      "[[[1.75841014 1.85585085 1.61200579 1.06359998 1.32260246 1.00280748\n",
      "   1.32249025 1.77587958]\n",
      "  [1.75841014 1.85585085 1.61200579 1.06359998 1.32260246 1.00280748\n",
      "   1.32249025 1.77587958]\n",
      "  [1.75841014 1.85585085 1.61200579 1.06359998 1.32260246 1.00280748\n",
      "   1.32249025 1.77587958]\n",
      "  [1.75841014 1.85585085 1.61200579 1.06359998 1.32260246 1.00280748\n",
      "   1.32249025 1.77587958]\n",
      "  [1.75841014 1.85585085 1.61200579 1.06359998 1.32260246 1.00280748\n",
      "   1.32249025 1.77587958]\n",
      "  [1.75841014 1.85585085 1.61200579 1.06359998 1.32260246 1.00280748\n",
      "   1.32249025 1.77587958]]\n",
      "\n",
      " [[1.4783555  1.99685898 1.07970564 1.59487465 1.69780656 1.72192645\n",
      "   1.62207631 1.86264496]\n",
      "  [1.4783555  1.99685898 1.07970564 1.59487465 1.69780656 1.72192645\n",
      "   1.62207631 1.86264496]\n",
      "  [1.4783555  1.99685898 1.07970564 1.59487465 1.69780656 1.72192645\n",
      "   1.62207631 1.86264496]\n",
      "  [1.4783555  1.99685898 1.07970564 1.59487465 1.69780656 1.72192645\n",
      "   1.62207631 1.86264496]\n",
      "  [1.4783555  1.99685898 1.07970564 1.59487465 1.69780656 1.72192645\n",
      "   1.62207631 1.86264496]\n",
      "  [1.4783555  1.99685898 1.07970564 1.59487465 1.69780656 1.72192645\n",
      "   1.62207631 1.86264496]]\n",
      "\n",
      " [[1.5132658  1.70355897 1.28060443 1.79484036 1.99153826 1.59827884\n",
      "   1.77418697 1.71523622]\n",
      "  [1.5132658  1.70355897 1.28060443 1.79484036 1.99153826 1.59827884\n",
      "   1.77418697 1.71523622]\n",
      "  [1.5132658  1.70355897 1.28060443 1.79484036 1.99153826 1.59827884\n",
      "   1.77418697 1.71523622]\n",
      "  [1.5132658  1.70355897 1.28060443 1.79484036 1.99153826 1.59827884\n",
      "   1.77418697 1.71523622]\n",
      "  [1.5132658  1.70355897 1.28060443 1.79484036 1.99153826 1.59827884\n",
      "   1.77418697 1.71523622]\n",
      "  [1.5132658  1.70355897 1.28060443 1.79484036 1.99153826 1.59827884\n",
      "   1.77418697 1.71523622]]\n",
      "\n",
      " [[1.02892232 1.81416998 1.26082487 1.27778461 1.93340332 1.88258161\n",
      "   1.03603368 1.86715272]\n",
      "  [1.02892232 1.81416998 1.26082487 1.27778461 1.93340332 1.88258161\n",
      "   1.03603368 1.86715272]\n",
      "  [1.02892232 1.81416998 1.26082487 1.27778461 1.93340332 1.88258161\n",
      "   1.03603368 1.86715272]\n",
      "  [1.02892232 1.81416998 1.26082487 1.27778461 1.93340332 1.88258161\n",
      "   1.03603368 1.86715272]\n",
      "  [1.02892232 1.81416998 1.26082487 1.27778461 1.93340332 1.88258161\n",
      "   1.03603368 1.86715272]\n",
      "  [1.02892232 1.81416998 1.26082487 1.27778461 1.93340332 1.88258161\n",
      "   1.03603368 1.86715272]]\n",
      "\n",
      " [[1.68500677 1.53506858 1.50787576 1.35178962 1.74739667 1.02753717\n",
      "   1.52842548 1.06747493]\n",
      "  [1.68500677 1.53506858 1.50787576 1.35178962 1.74739667 1.02753717\n",
      "   1.52842548 1.06747493]\n",
      "  [1.68500677 1.53506858 1.50787576 1.35178962 1.74739667 1.02753717\n",
      "   1.52842548 1.06747493]\n",
      "  [1.68500677 1.53506858 1.50787576 1.35178962 1.74739667 1.02753717\n",
      "   1.52842548 1.06747493]\n",
      "  [1.68500677 1.53506858 1.50787576 1.35178962 1.74739667 1.02753717\n",
      "   1.52842548 1.06747493]\n",
      "  [1.68500677 1.53506858 1.50787576 1.35178962 1.74739667 1.02753717\n",
      "   1.52842548 1.06747493]]\n",
      "\n",
      " [[1.67005008 1.54581234 1.12271006 1.98559459 1.81593885 1.74339401\n",
      "   1.62926503 1.42936489]\n",
      "  [1.67005008 1.54581234 1.12271006 1.98559459 1.81593885 1.74339401\n",
      "   1.62926503 1.42936489]\n",
      "  [1.67005008 1.54581234 1.12271006 1.98559459 1.81593885 1.74339401\n",
      "   1.62926503 1.42936489]\n",
      "  [1.67005008 1.54581234 1.12271006 1.98559459 1.81593885 1.74339401\n",
      "   1.62926503 1.42936489]\n",
      "  [1.67005008 1.54581234 1.12271006 1.98559459 1.81593885 1.74339401\n",
      "   1.62926503 1.42936489]\n",
      "  [1.67005008 1.54581234 1.12271006 1.98559459 1.81593885 1.74339401\n",
      "   1.62926503 1.42936489]]\n",
      "\n",
      " [[1.58052952 1.68908583 1.48571939 1.43192901 1.03917528 1.14859964\n",
      "   1.23684996 1.21412699]\n",
      "  [1.58052952 1.68908583 1.48571939 1.43192901 1.03917528 1.14859964\n",
      "   1.23684996 1.21412699]\n",
      "  [1.58052952 1.68908583 1.48571939 1.43192901 1.03917528 1.14859964\n",
      "   1.23684996 1.21412699]\n",
      "  [1.58052952 1.68908583 1.48571939 1.43192901 1.03917528 1.14859964\n",
      "   1.23684996 1.21412699]\n",
      "  [1.58052952 1.68908583 1.48571939 1.43192901 1.03917528 1.14859964\n",
      "   1.23684996 1.21412699]\n",
      "  [1.58052952 1.68908583 1.48571939 1.43192901 1.03917528 1.14859964\n",
      "   1.23684996 1.21412699]]\n",
      "\n",
      " [[1.65384681 1.97980878 1.30278579 1.47044292 1.42950554 1.56580379\n",
      "   1.11012739 1.44273328]\n",
      "  [1.65384681 1.97980878 1.30278579 1.47044292 1.42950554 1.56580379\n",
      "   1.11012739 1.44273328]\n",
      "  [1.65384681 1.97980878 1.30278579 1.47044292 1.42950554 1.56580379\n",
      "   1.11012739 1.44273328]\n",
      "  [1.65384681 1.97980878 1.30278579 1.47044292 1.42950554 1.56580379\n",
      "   1.11012739 1.44273328]\n",
      "  [1.65384681 1.97980878 1.30278579 1.47044292 1.42950554 1.56580379\n",
      "   1.11012739 1.44273328]\n",
      "  [1.65384681 1.97980878 1.30278579 1.47044292 1.42950554 1.56580379\n",
      "   1.11012739 1.44273328]]\n",
      "\n",
      " [[1.00864307 1.42714949 1.73797494 1.5463032  1.73470238 1.19563775\n",
      "   1.99902466 1.25166893]\n",
      "  [1.00864307 1.42714949 1.73797494 1.5463032  1.73470238 1.19563775\n",
      "   1.99902466 1.25166893]\n",
      "  [1.00864307 1.42714949 1.73797494 1.5463032  1.73470238 1.19563775\n",
      "   1.99902466 1.25166893]\n",
      "  [1.00864307 1.42714949 1.73797494 1.5463032  1.73470238 1.19563775\n",
      "   1.99902466 1.25166893]\n",
      "  [1.00864307 1.42714949 1.73797494 1.5463032  1.73470238 1.19563775\n",
      "   1.99902466 1.25166893]\n",
      "  [1.00864307 1.42714949 1.73797494 1.5463032  1.73470238 1.19563775\n",
      "   1.99902466 1.25166893]]\n",
      "\n",
      " [[1.23730205 1.42140049 1.3213196  1.76809762 1.22798352 1.9440857\n",
      "   1.33252785 1.18478094]\n",
      "  [1.23730205 1.42140049 1.3213196  1.76809762 1.22798352 1.9440857\n",
      "   1.33252785 1.18478094]\n",
      "  [1.23730205 1.42140049 1.3213196  1.76809762 1.22798352 1.9440857\n",
      "   1.33252785 1.18478094]\n",
      "  [1.23730205 1.42140049 1.3213196  1.76809762 1.22798352 1.9440857\n",
      "   1.33252785 1.18478094]\n",
      "  [1.23730205 1.42140049 1.3213196  1.76809762 1.22798352 1.9440857\n",
      "   1.33252785 1.18478094]\n",
      "  [1.23730205 1.42140049 1.3213196  1.76809762 1.22798352 1.9440857\n",
      "   1.33252785 1.18478094]]]\n"
     ]
    }
   ],
   "source": [
    "x = np.ones((6,8))\n",
    "y = np.random.random((10, 1, 8))\n",
    "print(x + y)"
   ]
  },
  {
   "cell_type": "code",
   "execution_count": 53,
   "id": "5eaa213d-61ef-48fc-9694-af0d7a79c94f",
   "metadata": {},
   "outputs": [
    {
     "name": "stdout",
     "output_type": "stream",
     "text": [
      "[[ 2  6 12]\n",
      " [ 4  6  2]]\n",
      "[[ 0 -2 -6]\n",
      " [ 0  0  6]]\n",
      "[[ 1  8 27]\n",
      " [ 4  9 -8]]\n",
      "[[ 1.          0.5         0.33333333]\n",
      " [ 1.          1.         -2.        ]]\n",
      "[[0 2 3]\n",
      " [0 0 0]]\n"
     ]
    }
   ],
   "source": [
    "#numpy operations\n",
    "x = np.array([[1, 2, 3], [2, 3, 4]])\n",
    "y = np.array([[1, 4, 9], [2, 3, -2]])\n",
    "# Add two array\n",
    "add = np.add(x, y)\n",
    "print(add)\n",
    "# Subtract two array\n",
    "sub = np.subtract(x, y)\n",
    "print(sub)\n",
    "# Multiply two array\n",
    "mul = np.multiply(x, y)\n",
    "print(mul)\n",
    "# Divide x, y\n",
    "div = np.divide(x,y)\n",
    "print(div)\n",
    "# Calculated the remainder of x and y\n",
    "rem = np.remainder(x, y)\n",
    "print(rem)"
   ]
  },
  {
   "cell_type": "code",
   "execution_count": 54,
   "id": "7db6cdb7-28a6-4fa6-9260-8f86ff953d1f",
   "metadata": {},
   "outputs": [
    {
     "name": "stdout",
     "output_type": "stream",
     "text": [
      "[ 2 10]\n"
     ]
    }
   ],
   "source": [
    "y = np.array([[ 1, 2, 3, 4], [ 9, 10, 11 ,12]])\n",
    "print(y[0:2, 1])"
   ]
  },
  {
   "cell_type": "code",
   "execution_count": 55,
   "id": "60ef1087-028d-473d-8dc4-f33ed4d97a45",
   "metadata": {},
   "outputs": [
    {
     "name": "stdout",
     "output_type": "stream",
     "text": [
      "[ 2  3  4  9 10 11 12]\n"
     ]
    }
   ],
   "source": [
    "biggerThan2 = (y >= 2)\n",
    "print(y[biggerThan2])\n"
   ]
  },
  {
   "cell_type": "code",
   "execution_count": null,
   "id": "966c47a0-6460-4648-9377-f9ba9cf61ea8",
   "metadata": {},
   "outputs": [],
   "source": []
  }
 ],
 "metadata": {
  "kernelspec": {
   "display_name": "Python 3 (ipykernel)",
   "language": "python",
   "name": "python3"
  },
  "language_info": {
   "codemirror_mode": {
    "name": "ipython",
    "version": 3
   },
   "file_extension": ".py",
   "mimetype": "text/x-python",
   "name": "python",
   "nbconvert_exporter": "python",
   "pygments_lexer": "ipython3",
   "version": "3.12.3"
  }
 },
 "nbformat": 4,
 "nbformat_minor": 5
}
