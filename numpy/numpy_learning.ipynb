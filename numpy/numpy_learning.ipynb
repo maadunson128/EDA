{
 "cells": [
  {
   "cell_type": "code",
   "execution_count": 1,
   "id": "ff54a423-2a29-48a3-b3ac-81bb0c341e58",
   "metadata": {},
   "outputs": [],
   "source": [
    "import numpy as np"
   ]
  },
  {
   "cell_type": "markdown",
   "id": "a29378fa-bb16-43a5-910f-e2eb4e94a34f",
   "metadata": {},
   "source": [
    "Creating diffrerent types of arrays"
   ]
  },
  {
   "cell_type": "code",
   "execution_count": 3,
   "id": "b7abf087-af59-4ad0-a2a8-e75004027f4a",
   "metadata": {},
   "outputs": [
    {
     "name": "stdout",
     "output_type": "stream",
     "text": [
      "[1 2 3 4]\n"
     ]
    }
   ],
   "source": [
    "#1D array\n",
    "array_1 = np.array([1, 2, 3, 4])\n",
    "print(array_1)"
   ]
  },
  {
   "cell_type": "code",
   "execution_count": 4,
   "id": "7e560f5b-fb3d-4c25-908c-293985153b6f",
   "metadata": {},
   "outputs": [
    {
     "data": {
      "text/plain": [
       "numpy.ndarray"
      ]
     },
     "execution_count": 4,
     "metadata": {},
     "output_type": "execute_result"
    }
   ],
   "source": [
    "type(array_1)"
   ]
  },
  {
   "cell_type": "code",
   "execution_count": 5,
   "id": "990b787a-7975-433d-a198-77c840f1cd14",
   "metadata": {},
   "outputs": [
    {
     "name": "stdout",
     "output_type": "stream",
     "text": [
      "[[1 2 3]\n",
      " [4 5 6]]\n"
     ]
    }
   ],
   "source": [
    "#2D array\n",
    "array_2 = np.array([[1, 2, 3], [4, 5, 6]])\n",
    "print(array_2)"
   ]
  },
  {
   "cell_type": "code",
   "execution_count": 6,
   "id": "25cec3d8-c6ed-4f8e-b276-0d8271e37202",
   "metadata": {},
   "outputs": [
    {
     "name": "stdout",
     "output_type": "stream",
     "text": [
      "[[[ 1  2  3]\n",
      "  [ 4  5  6]]\n",
      "\n",
      " [[11 12 13]\n",
      "  [14 15 16]]]\n"
     ]
    }
   ],
   "source": [
    "#3D array\n",
    "array_3 = np.array([[[1, 2, 3], [4, 5, 6]], [[11, 12, 13], [14, 15, 16]]])\n",
    "print(array_3)"
   ]
  },
  {
   "cell_type": "markdown",
   "id": "1b4bc71b-01c0-4713-832c-1331caa0017b",
   "metadata": {},
   "source": [
    "**Printing the data about the arrays**"
   ]
  },
  {
   "cell_type": "code",
   "execution_count": 11,
   "id": "c807faa1-d27d-4672-84be-4579b858ba46",
   "metadata": {},
   "outputs": [
    {
     "name": "stdout",
     "output_type": "stream",
     "text": [
      "<memory at 0x000001F726172680>\n"
     ]
    }
   ],
   "source": [
    "#printing the array memory address\n",
    "print(array_1.data)"
   ]
  },
  {
   "cell_type": "code",
   "execution_count": 14,
   "id": "d9310bac-5a2e-4d57-81d6-a839134ec4ff",
   "metadata": {},
   "outputs": [
    {
     "name": "stdout",
     "output_type": "stream",
     "text": [
      "int32\n"
     ]
    }
   ],
   "source": [
    "#printing the array's datatype\n",
    "print(array_2.dtype)"
   ]
  },
  {
   "cell_type": "code",
   "execution_count": 15,
   "id": "f8c047cb-b127-441c-9999-f8d82a0a33aa",
   "metadata": {},
   "outputs": [
    {
     "name": "stdout",
     "output_type": "stream",
     "text": [
      "(24, 12, 4)\n"
     ]
    }
   ],
   "source": [
    "#printing array's strides\n",
    "print(array_3.strides)"
   ]
  },
  {
   "cell_type": "code",
   "execution_count": 16,
   "id": "6c1c5202-4bbd-4535-ab0b-87f4238b8c07",
   "metadata": {},
   "outputs": [
    {
     "name": "stdout",
     "output_type": "stream",
     "text": [
      "(2, 2, 3)\n"
     ]
    }
   ],
   "source": [
    "#printing array's shape\n",
    "print(array_3.shape)"
   ]
  },
  {
   "cell_type": "markdown",
   "id": "63e9f28f-c377-418d-b501-56656ac7c8a9",
   "metadata": {},
   "source": [
    "Filling arrays"
   ]
  },
  {
   "cell_type": "code",
   "execution_count": 18,
   "id": "79f3e24c-7116-4278-b2e1-b5ce7c58911c",
   "metadata": {},
   "outputs": [
    {
     "name": "stdout",
     "output_type": "stream",
     "text": [
      "[[1. 1. 1.]\n",
      " [1. 1. 1.]\n",
      " [1. 1. 1.]\n",
      " [1. 1. 1.]\n",
      " [1. 1. 1.]]\n"
     ]
    }
   ],
   "source": [
    "#filling with ones \n",
    "print(np.ones((5,3)))"
   ]
  },
  {
   "cell_type": "code",
   "execution_count": 21,
   "id": "2c1af4f6-6144-438e-9f41-0d616fa020c2",
   "metadata": {},
   "outputs": [
    {
     "name": "stdout",
     "output_type": "stream",
     "text": [
      "[[[0. 0. 0.]\n",
      "  [0. 0. 0.]\n",
      "  [0. 0. 0.]]\n",
      "\n",
      " [[0. 0. 0.]\n",
      "  [0. 0. 0.]\n",
      "  [0. 0. 0.]]]\n"
     ]
    }
   ],
   "source": [
    "#filling with zeros\n",
    "print(np.zeros((2, 3, 3)))"
   ]
  },
  {
   "cell_type": "code",
   "execution_count": 23,
   "id": "215a97bd-9376-4e01-8c7c-9bf700e4cc2e",
   "metadata": {},
   "outputs": [
    {
     "name": "stdout",
     "output_type": "stream",
     "text": [
      "[[45 45 45 45 45 45]\n",
      " [45 45 45 45 45 45]\n",
      " [45 45 45 45 45 45]\n",
      " [45 45 45 45 45 45]\n",
      " [45 45 45 45 45 45]]\n"
     ]
    }
   ],
   "source": [
    "#Filling with some values -> ex : Filling with value 45\n",
    "print(np.full((5, 6), 45))"
   ]
  },
  {
   "cell_type": "code",
   "execution_count": 38,
   "id": "2ed000b0-79e2-46fe-b4ed-07da62cab43c",
   "metadata": {},
   "outputs": [
    {
     "name": "stdout",
     "output_type": "stream",
     "text": [
      "[10 15]\n"
     ]
    }
   ],
   "source": [
    "#arranging values for a array form 10 to 20 with incremental value 5\n",
    "print(np.arange(10, 20, 5))"
   ]
  },
  {
   "cell_type": "code",
   "execution_count": 39,
   "id": "918cbac5-ee31-4480-ad25-dbdaa3129716",
   "metadata": {},
   "outputs": [
    {
     "name": "stdout",
     "output_type": "stream",
     "text": [
      "[50 40 30 20 10]\n"
     ]
    }
   ],
   "source": [
    "#printing the values for a array from  50 to 5 with decremental value -10\n",
    "print(np.arange(50, 5, -10))"
   ]
  },
  {
   "cell_type": "code",
   "execution_count": 40,
   "id": "530238a7-7653-4397-8272-1c3aa9a027f2",
   "metadata": {},
   "outputs": [
    {
     "name": "stdout",
     "output_type": "stream",
     "text": [
      "[2.         2.33333333 2.66666667 3.         3.33333333 3.66666667\n",
      " 4.         4.33333333 4.66666667 5.        ]\n"
     ]
    }
   ],
   "source": [
    "#Array from 2 and 5 with 10 numbers equally between the interval (2, 5)\n",
    "print(np.linspace(2, 5, 10))"
   ]
  },
  {
   "cell_type": "code",
   "execution_count": null,
   "id": "a7de6a89-2fde-44cc-a9ae-d86542b04151",
   "metadata": {},
   "outputs": [],
   "source": []
  }
 ],
 "metadata": {
  "kernelspec": {
   "display_name": "Python 3 (ipykernel)",
   "language": "python",
   "name": "python3"
  },
  "language_info": {
   "codemirror_mode": {
    "name": "ipython",
    "version": 3
   },
   "file_extension": ".py",
   "mimetype": "text/x-python",
   "name": "python",
   "nbconvert_exporter": "python",
   "pygments_lexer": "ipython3",
   "version": "3.12.3"
  }
 },
 "nbformat": 4,
 "nbformat_minor": 5
}
